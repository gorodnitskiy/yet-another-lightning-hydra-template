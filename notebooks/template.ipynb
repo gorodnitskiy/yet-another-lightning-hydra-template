{
 "cells": [
  {
   "cell_type": "markdown",
   "id": "dd2aec7a-ec7a-4585-8cb1-e2efcd0b03b0",
   "metadata": {},
   "source": [
    "# Summary"
   ]
  },
  {
   "cell_type": "markdown",
   "id": "4339779e-6cf4-432c-bd81-cf246d00d019",
   "metadata": {},
   "source": [
    "```Objective```\n",
    "\n",
    "todo"
   ]
  },
  {
   "cell_type": "markdown",
   "id": "8f4dfe32-a227-4923-ab64-63854419ca95",
   "metadata": {},
   "source": [
    "```Methods```\n",
    "\n",
    "todo"
   ]
  },
  {
   "cell_type": "markdown",
   "id": "5c19ae45-56fd-4446-a49f-29fcc05bc885",
   "metadata": {},
   "source": [
    "```Results```\n",
    "\n",
    "todo"
   ]
  },
  {
   "cell_type": "markdown",
   "id": "10534042-e2b9-4547-a8e0-d7ad2d85f169",
   "metadata": {},
   "source": []
  },
  {
   "cell_type": "markdown",
   "id": "45dfab17-bead-4526-8257-83b2acbe13c0",
   "metadata": {},
   "source": [
    "# Config"
   ]
  },
  {
   "cell_type": "code",
   "execution_count": null,
   "id": "f9b27ade-f6fb-45b5-be5e-147297af867e",
   "metadata": {},
   "outputs": [],
   "source": []
  },
  {
   "cell_type": "markdown",
   "id": "9fac5eaa-e0cd-4282-b9ad-c4e126363902",
   "metadata": {},
   "source": [
    "# Libs"
   ]
  },
  {
   "cell_type": "code",
   "execution_count": null,
   "id": "42d698c2-8c1b-4f83-8f52-9e94d8435bed",
   "metadata": {},
   "outputs": [],
   "source": []
  },
  {
   "cell_type": "markdown",
   "id": "cb61c119-06df-4bc8-8e29-62185d85d927",
   "metadata": {},
   "source": [
    "# Analysis"
   ]
  },
  {
   "cell_type": "code",
   "execution_count": null,
   "id": "03c4ffa1-60d0-45c2-b65a-25adaf0161e1",
   "metadata": {},
   "outputs": [],
   "source": []
  }
 ],
 "metadata": {
  "kernelspec": {
   "display_name": "Python 3",
   "language": "python",
   "name": "python3"
  },
  "language_info": {
   "codemirror_mode": {
    "name": "ipython",
    "version": 3
   },
   "file_extension": ".py",
   "mimetype": "text/x-python",
   "name": "python",
   "nbconvert_exporter": "python",
   "pygments_lexer": "ipython3",
   "version": "3.8.5"
  }
 },
 "nbformat": 4,
 "nbformat_minor": 5
}
